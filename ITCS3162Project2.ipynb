{
 "cells": [
  {
   "cell_type": "markdown",
   "id": "4c1a949c-6bdc-4d0f-876c-566faccd2cc9",
   "metadata": {},
   "source": [
    "# Project 2 - Gender Classification"
   ]
  },
  {
   "cell_type": "code",
   "execution_count": 1,
   "id": "388f1704-25ca-4e76-b567-78d8607c2536",
   "metadata": {},
   "outputs": [],
   "source": [
    "# ITCS 3162 Project 2 - Gender Classification\n",
    "# Gray Lumsden 10/01/2023"
   ]
  },
  {
   "cell_type": "markdown",
   "id": "922b38cd-a0ac-4610-9055-44eb11668339",
   "metadata": {},
   "source": [
    "# Explore & Clean Dataset"
   ]
  },
  {
   "cell_type": "code",
   "execution_count": 2,
   "id": "ea014ab7-6e77-4ec5-823b-a7d6fa1a6545",
   "metadata": {
    "tags": []
   },
   "outputs": [],
   "source": [
    "# Imports\n",
    "%matplotlib inline\n",
    "\n",
    "import pandas as pd\n",
    "from sklearn.model_selection import train_test_split\n",
    "from sklearn import preprocessing\n",
    "import matplotlib.pyplot as plt\n",
    "import numpy as np\n",
    "import seaborn as sns\n",
    "\n",
    "# Make the graphs a bit prettier, and bigger\n",
    "plt.style.use('ggplot')\n",
    "plt.rcParams['figure.figsize'] = (15, 5)"
   ]
  },
  {
   "cell_type": "code",
   "execution_count": 3,
   "id": "093461ad-d4e3-4c6c-8f7f-ae520c4461c6",
   "metadata": {
    "tags": []
   },
   "outputs": [
    {
     "data": {
      "text/html": [
       "<div>\n",
       "<style scoped>\n",
       "    .dataframe tbody tr th:only-of-type {\n",
       "        vertical-align: middle;\n",
       "    }\n",
       "\n",
       "    .dataframe tbody tr th {\n",
       "        vertical-align: top;\n",
       "    }\n",
       "\n",
       "    .dataframe thead th {\n",
       "        text-align: right;\n",
       "    }\n",
       "</style>\n",
       "<table border=\"1\" class=\"dataframe\">\n",
       "  <thead>\n",
       "    <tr style=\"text-align: right;\">\n",
       "      <th></th>\n",
       "      <th>Favorite Color</th>\n",
       "      <th>Favorite Music Genre</th>\n",
       "      <th>Favorite Beverage</th>\n",
       "      <th>Favorite Soft Drink</th>\n",
       "      <th>Gender</th>\n",
       "    </tr>\n",
       "  </thead>\n",
       "  <tbody>\n",
       "    <tr>\n",
       "      <th>0</th>\n",
       "      <td>Cool</td>\n",
       "      <td>Rock</td>\n",
       "      <td>Vodka</td>\n",
       "      <td>7UP/Sprite</td>\n",
       "      <td>F</td>\n",
       "    </tr>\n",
       "    <tr>\n",
       "      <th>1</th>\n",
       "      <td>Neutral</td>\n",
       "      <td>Hip hop</td>\n",
       "      <td>Vodka</td>\n",
       "      <td>Coca Cola/Pepsi</td>\n",
       "      <td>F</td>\n",
       "    </tr>\n",
       "    <tr>\n",
       "      <th>2</th>\n",
       "      <td>Warm</td>\n",
       "      <td>Rock</td>\n",
       "      <td>Wine</td>\n",
       "      <td>Coca Cola/Pepsi</td>\n",
       "      <td>F</td>\n",
       "    </tr>\n",
       "    <tr>\n",
       "      <th>3</th>\n",
       "      <td>Warm</td>\n",
       "      <td>Folk/Traditional</td>\n",
       "      <td>Whiskey</td>\n",
       "      <td>Fanta</td>\n",
       "      <td>F</td>\n",
       "    </tr>\n",
       "    <tr>\n",
       "      <th>4</th>\n",
       "      <td>Cool</td>\n",
       "      <td>Rock</td>\n",
       "      <td>Vodka</td>\n",
       "      <td>Coca Cola/Pepsi</td>\n",
       "      <td>F</td>\n",
       "    </tr>\n",
       "    <tr>\n",
       "      <th>...</th>\n",
       "      <td>...</td>\n",
       "      <td>...</td>\n",
       "      <td>...</td>\n",
       "      <td>...</td>\n",
       "      <td>...</td>\n",
       "    </tr>\n",
       "    <tr>\n",
       "      <th>61</th>\n",
       "      <td>Cool</td>\n",
       "      <td>Rock</td>\n",
       "      <td>Vodka</td>\n",
       "      <td>Coca Cola/Pepsi</td>\n",
       "      <td>M</td>\n",
       "    </tr>\n",
       "    <tr>\n",
       "      <th>62</th>\n",
       "      <td>Cool</td>\n",
       "      <td>Hip hop</td>\n",
       "      <td>Beer</td>\n",
       "      <td>Coca Cola/Pepsi</td>\n",
       "      <td>M</td>\n",
       "    </tr>\n",
       "    <tr>\n",
       "      <th>63</th>\n",
       "      <td>Neutral</td>\n",
       "      <td>Hip hop</td>\n",
       "      <td>Doesn't drink</td>\n",
       "      <td>Fanta</td>\n",
       "      <td>M</td>\n",
       "    </tr>\n",
       "    <tr>\n",
       "      <th>64</th>\n",
       "      <td>Cool</td>\n",
       "      <td>Rock</td>\n",
       "      <td>Wine</td>\n",
       "      <td>Coca Cola/Pepsi</td>\n",
       "      <td>M</td>\n",
       "    </tr>\n",
       "    <tr>\n",
       "      <th>65</th>\n",
       "      <td>Cool</td>\n",
       "      <td>Electronic</td>\n",
       "      <td>Beer</td>\n",
       "      <td>Coca Cola/Pepsi</td>\n",
       "      <td>M</td>\n",
       "    </tr>\n",
       "  </tbody>\n",
       "</table>\n",
       "<p>66 rows × 5 columns</p>\n",
       "</div>"
      ],
      "text/plain": [
       "   Favorite Color Favorite Music Genre Favorite Beverage Favorite Soft Drink  \\\n",
       "0            Cool                 Rock             Vodka          7UP/Sprite   \n",
       "1         Neutral              Hip hop             Vodka     Coca Cola/Pepsi   \n",
       "2            Warm                 Rock              Wine     Coca Cola/Pepsi   \n",
       "3            Warm     Folk/Traditional           Whiskey               Fanta   \n",
       "4            Cool                 Rock             Vodka     Coca Cola/Pepsi   \n",
       "..            ...                  ...               ...                 ...   \n",
       "61           Cool                 Rock             Vodka     Coca Cola/Pepsi   \n",
       "62           Cool              Hip hop              Beer     Coca Cola/Pepsi   \n",
       "63        Neutral              Hip hop     Doesn't drink               Fanta   \n",
       "64           Cool                 Rock              Wine     Coca Cola/Pepsi   \n",
       "65           Cool           Electronic              Beer     Coca Cola/Pepsi   \n",
       "\n",
       "   Gender  \n",
       "0       F  \n",
       "1       F  \n",
       "2       F  \n",
       "3       F  \n",
       "4       F  \n",
       "..    ...  \n",
       "61      M  \n",
       "62      M  \n",
       "63      M  \n",
       "64      M  \n",
       "65      M  \n",
       "\n",
       "[66 rows x 5 columns]"
      ]
     },
     "execution_count": 3,
     "metadata": {},
     "output_type": "execute_result"
    }
   ],
   "source": [
    "# Read & Display Dataset\n",
    "gen_df = pd.read_csv('genderData.csv')\n",
    "gen_df"
   ]
  },
  {
   "cell_type": "code",
   "execution_count": 4,
   "id": "e1947e85-4a4b-49cf-89ea-1331aaa63c6b",
   "metadata": {
    "tags": []
   },
   "outputs": [
    {
     "name": "stdout",
     "output_type": "stream",
     "text": [
      "<class 'pandas.core.frame.DataFrame'>\n",
      "RangeIndex: 66 entries, 0 to 65\n",
      "Data columns (total 5 columns):\n",
      " #   Column                Non-Null Count  Dtype \n",
      "---  ------                --------------  ----- \n",
      " 0   Favorite Color        66 non-null     object\n",
      " 1   Favorite Music Genre  66 non-null     object\n",
      " 2   Favorite Beverage     66 non-null     object\n",
      " 3   Favorite Soft Drink   66 non-null     object\n",
      " 4   Gender                66 non-null     object\n",
      "dtypes: object(5)\n",
      "memory usage: 2.7+ KB\n"
     ]
    }
   ],
   "source": [
    "# Dataset Info\n",
    "gen_df.info()"
   ]
  },
  {
   "cell_type": "code",
   "execution_count": 5,
   "id": "397d3fe5-2baf-4e94-8ff0-c8995ccae5fd",
   "metadata": {
    "tags": []
   },
   "outputs": [
    {
     "name": "stdout",
     "output_type": "stream",
     "text": [
      "Favorite Color          0\n",
      "Favorite Music Genre    0\n",
      "Favorite Beverage       0\n",
      "Favorite Soft Drink     0\n",
      "Gender                  0\n",
      "dtype: int64\n",
      "True\n"
     ]
    }
   ],
   "source": [
    "# See if dataset contains any duplicate or null values\n",
    "null = gen_df.isnull().sum()\n",
    "print(null)\n",
    "duplicate = gen_df.duplicated().any()\n",
    "print(duplicate)"
   ]
  },
  {
   "cell_type": "code",
   "execution_count": 6,
   "id": "71850cc2-49e4-40b4-b629-ed5d7604d63b",
   "metadata": {
    "tags": []
   },
   "outputs": [
    {
     "name": "stdout",
     "output_type": "stream",
     "text": [
      "Most Popular Color:  Cool\n",
      "Most Popular Genre:  Rock\n",
      "Most Popular Beverage:  Doesn't drink\n",
      "Most Popular Soft Drink:  Coca Cola/Pepsi\n",
      "Most Frequent Gender:  F\n"
     ]
    }
   ],
   "source": [
    "# Search for most popular values for each variable\n",
    "most_color = gen_df['Favorite Color'].value_counts().idxmax()\n",
    "print(\"Most Popular Color: \", most_color)\n",
    "most_genre = gen_df['Favorite Music Genre'].value_counts().idxmax()\n",
    "print(\"Most Popular Genre: \", most_genre)\n",
    "most_bev = gen_df['Favorite Beverage'].value_counts().idxmax()\n",
    "print(\"Most Popular Beverage: \", most_bev)\n",
    "most_drink = gen_df['Favorite Soft Drink'].value_counts().idxmax()\n",
    "print(\"Most Popular Soft Drink: \", most_drink)\n",
    "most_gen = gen_df['Gender'].value_counts().idxmax()\n",
    "print(\"Most Frequent Gender: \", most_gen)"
   ]
  },
  {
   "cell_type": "markdown",
   "id": "40dcea6a-f188-4d77-9f1e-75d2e09035f8",
   "metadata": {
    "tags": []
   },
   "source": [
    "# Create Visualizations"
   ]
  },
  {
   "cell_type": "code",
   "execution_count": 7,
   "id": "cab51053-d5f3-4217-be1b-554a0633074f",
   "metadata": {
    "tags": []
   },
   "outputs": [],
   "source": [
    "# Separate data by Gender\n",
    "gen_male = gen_df[gen_df['Gender'] == 'M']\n",
    "gen_female = gen_df[gen_df['Gender'] == 'F']"
   ]
  },
  {
   "cell_type": "markdown",
   "id": "94ef1e3d-d457-47bc-ba18-af4cd2668a72",
   "metadata": {},
   "source": [
    "Histogram for favorite colors by gender:"
   ]
  },
  {
   "cell_type": "code",
   "execution_count": 8,
   "id": "09502ee9-06fd-4825-bfcc-627868e71680",
   "metadata": {
    "tags": []
   },
   "outputs": [
    {
     "data": {
      "image/png": "[encoded data removed]",
      "text/plain": [
       "<Figure size 1500x500 with 1 Axes>"
      ]
     },
     "metadata": {},
     "output_type": "display_data"
    }
   ],
   "source": [
    "c_male = gen_male['Favorite Color'].value_counts()\n",
    "c_female = gen_female['Favorite Color'].value_counts()\n",
    "\n",
    "c_unique = gen_df['Favorite Color'].unique()\n",
    "\n",
    "# Create a bar plot with different colors for male and female\n",
    "bar_width = 0.35\n",
    "index = np.arange(len(c_unique))\n",
    "\n",
    "plt.bar(index - (bar_width/2), c_male, bar_width, label='Male', color='blue')\n",
    "plt.bar(index + (bar_width/2), c_female, bar_width, label='Female', color='pink')\n",
    "\n",
    "plt.xlabel('Favorite Color')\n",
    "plt.ylabel('Count')\n",
    "plt.xticks(index, c_unique)\n",
    "plt.legend()\n",
    "plt.title('Favorite Color by Gender')\n",
    "\n",
    "plt.show()"
   ]
  },
  {
   "cell_type": "markdown",
   "id": "2ce93ccf-1cb9-49cb-b7f7-de672bbe22c2",
   "metadata": {},
   "source": [
    "Histogram for favorite music genres by gender:"
   ]
  },
  {
   "cell_type": "code",
   "execution_count": 9,
   "id": "6a207fa5-3802-457a-b553-ba91479b3926",
   "metadata": {},
   "outputs": [
    {
     "data": {
      "image/png": "[encoded data removed]",
      "text/plain": [
       "<Figure size 1500x500 with 1 Axes>"
      ]
     },
     "metadata": {},
     "output_type": "display_data"
    }
   ],
   "source": [
    "m_male = gen_male['Favorite Music Genre'].value_counts()\n",
    "m_female = gen_female['Favorite Music Genre'].value_counts()\n",
    "\n",
    "m_unique = gen_df['Favorite Music Genre'].unique()\n",
    "\n",
    "# Create a bar plot with different colors for male and female\n",
    "bar_width = 0.35\n",
    "index = np.arange(len(m_unique))\n",
    "\n",
    "plt.bar(index - (bar_width/2), m_male, bar_width, label='Male', color='blue')\n",
    "plt.bar(index + (bar_width/2), m_female, bar_width, label='Female', color='pink')\n",
    "\n",
    "plt.xlabel('Favorite Music Genre')\n",
    "plt.ylabel('Count')\n",
    "plt.xticks(index, m_unique)\n",
    "plt.legend()\n",
    "plt.title('Favorite Music Genre by Gender')\n",
    "\n",
    "plt.show()"
   ]
  },
  {
   "cell_type": "markdown",
   "id": "9ce66ded-e40f-4313-bcf2-cd07ebcb1a63",
   "metadata": {},
   "source": [
    "Histogram for favorite alcoholic drinks by gender:"
   ]
  },
  {
   "cell_type": "code",
   "execution_count": 10,
   "id": "00d94df3-2b4f-4160-8769-f141b3e325e6",
   "metadata": {
    "tags": []
   },
   "outputs": [
    {
     "data": {
      "image/png": "[encoded data removed]",
      "text/plain": [
       "<Figure size 1500x500 with 1 Axes>"
      ]
     },
     "metadata": {},
     "output_type": "display_data"
    }
   ],
   "source": [
    "b_male = gen_male['Favorite Beverage'].value_counts()\n",
    "b_female = gen_female['Favorite Beverage'].value_counts()\n",
    "\n",
    "b_unique = gen_df['Favorite Beverage'].unique()\n",
    "\n",
    "# Create a bar plot with different colors for male and female\n",
    "bar_width = 0.35\n",
    "index = np.arange(len(b_unique))\n",
    "\n",
    "plt.bar(index - (bar_width/2), b_male, bar_width, label='Male', color='blue')\n",
    "plt.bar(index + (bar_width/2), b_female, bar_width, label='Female', color='pink')\n",
    "\n",
    "plt.xlabel('Favorite Beverage')\n",
    "plt.ylabel('Count')\n",
    "plt.xticks(index, b_unique)\n",
    "plt.legend()\n",
    "plt.title('Favorite Beverage by Gender')\n",
    "\n",
    "plt.show()"
   ]
  },
  {
   "cell_type": "markdown",
   "id": "1af0d183-6959-46ba-a3da-ed14711ebf36",
   "metadata": {},
   "source": [
    "Histogram for favorite sodas by gender:"
   ]
  },
  {
   "cell_type": "code",
   "execution_count": 11,
   "id": "072ade79-5016-4911-b08e-68a5627ded0a",
   "metadata": {
    "tags": []
   },
   "outputs": [
    {
     "data": {
      "image/png": "[encoded data removed]",
      "text/plain": [
       "<Figure size 1500x500 with 1 Axes>"
      ]
     },
     "metadata": {},
     "output_type": "display_data"
    }
   ],
   "source": [
    "s_male = gen_male['Favorite Soft Drink'].value_counts()\n",
    "s_female = gen_female['Favorite Soft Drink'].value_counts()\n",
    "\n",
    "s_unique = gen_df['Favorite Soft Drink'].unique()\n",
    "\n",
    "# Create a bar plot with different colors for male and female\n",
    "bar_width = 0.35\n",
    "index = np.arange(len(s_unique))\n",
    "\n",
    "plt.bar(index - (bar_width/2), s_male, bar_width, label='Male', color='blue')\n",
    "plt.bar(index + (bar_width/2), s_female, bar_width, label='Female', color='pink')\n",
    "\n",
    "plt.xlabel('Favorite Soft Drink')\n",
    "plt.ylabel('Count')\n",
    "plt.xticks(index, s_unique)\n",
    "plt.legend()\n",
    "plt.title('Favorite Soft Drink by Gender')\n",
    "\n",
    "plt.show()"
   ]
  },
  {
   "cell_type": "markdown",
   "id": "464dd68f-f004-4b24-99ba-c457e02287f6",
   "metadata": {},
   "source": [
    "# Modeling & Evaluation"
   ]
  },
  {
   "cell_type": "markdown",
   "id": "384804bd-990f-4f87-bd69-35196934ffe5",
   "metadata": {},
   "source": [
    "Decision Tree Model (CART):"
   ]
  },
  {
   "cell_type": "code",
   "execution_count": 12,
   "id": "edb53687-2dfe-4d25-9bb4-ea45758f7ca5",
   "metadata": {},
   "outputs": [
    {
     "name": "stdout",
     "output_type": "stream",
     "text": [
      "<class 'pandas.core.frame.DataFrame'>\n",
      "RangeIndex: 66 entries, 0 to 65\n",
      "Data columns (total 21 columns):\n",
      " #   Column                  Non-Null Count  Dtype \n",
      "---  ------                  --------------  ----- \n",
      " 0   Gender                  66 non-null     object\n",
      " 1   dummy_Cool              66 non-null     uint8 \n",
      " 2   dummy_Neutral           66 non-null     uint8 \n",
      " 3   dummy_Warm              66 non-null     uint8 \n",
      " 4   dummy_Electronic        66 non-null     uint8 \n",
      " 5   dummy_Folk/Traditional  66 non-null     uint8 \n",
      " 6   dummy_Hip hop           66 non-null     uint8 \n",
      " 7   dummy_Jazz/Blues        66 non-null     uint8 \n",
      " 8   dummy_Pop               66 non-null     uint8 \n",
      " 9   dummy_R&B and soul      66 non-null     uint8 \n",
      " 10  dummy_Rock              66 non-null     uint8 \n",
      " 11  dummy_Beer              66 non-null     uint8 \n",
      " 12  dummy_Doesn't drink     66 non-null     uint8 \n",
      " 13  dummy_Other             66 non-null     uint8 \n",
      " 14  dummy_Vodka             66 non-null     uint8 \n",
      " 15  dummy_Whiskey           66 non-null     uint8 \n",
      " 16  dummy_Wine              66 non-null     uint8 \n",
      " 17  dummy_7UP/Sprite        66 non-null     uint8 \n",
      " 18  dummy_Coca Cola/Pepsi   66 non-null     uint8 \n",
      " 19  dummy_Fanta             66 non-null     uint8 \n",
      " 20  dummy_Other             66 non-null     uint8 \n",
      "dtypes: object(1), uint8(20)\n",
      "memory usage: 1.9+ KB\n"
     ]
    }
   ],
   "source": [
    "# Create dummy variables\n",
    "gen_df = pd.get_dummies(gen_df, columns=['Favorite Color','Favorite Music Genre',\n",
    "                               'Favorite Beverage', 'Favorite Soft Drink' ], prefix = ['dummy','dummy','dummy','dummy'])\n",
    "gen_df.info()"
   ]
  },
  {
   "cell_type": "code",
   "execution_count": 13,
   "id": "a5b506a1-ab2e-489d-b55c-c083a3668557",
   "metadata": {},
   "outputs": [],
   "source": [
    "# Set predictor and target variables\n",
    "X = gen_df.drop('Gender', axis=1)\n",
    "y = gen_df[['Gender']]"
   ]
  },
  {
   "cell_type": "code",
   "execution_count": 14,
   "id": "0902b48b-4975-40f4-81fe-e2ad8ee76a44",
   "metadata": {},
   "outputs": [
    {
     "name": "stdout",
     "output_type": "stream",
     "text": [
      "(17, 20)\n",
      "(49, 20)\n"
     ]
    }
   ],
   "source": [
    "# Create training and testing sets\n",
    "X_train, X_test, y_train, y_test = train_test_split(X, y, test_size =0.25, random_state = 1)\n",
    "print(X_test.shape)\n",
    "print(X_train.shape)"
   ]
  },
  {
   "cell_type": "code",
   "execution_count": 19,
   "id": "17035513-b789-414b-af43-0e8f47e52744",
   "metadata": {
    "tags": []
   },
   "outputs": [
    {
     "data": {
      "text/plain": [
       "F    0.591837\n",
       "M    0.408163\n",
       "Name: Gender, dtype: float64"
      ]
     },
     "execution_count": 19,
     "metadata": {},
     "output_type": "execute_result"
    }
   ],
   "source": [
    "# Baseline Accuracy\n",
    "y_train['Gender'].value_counts(normalize=True)"
   ]
  },
  {
   "cell_type": "markdown",
   "id": "29ecd8d8-3716-4b08-b8ac-9d17aa39b1c0",
   "metadata": {},
   "source": [
    "With the target variable being Gender, the baseline accuracy is about 59%."
   ]
  },
  {
   "cell_type": "code",
   "execution_count": 15,
   "id": "74034bcb-d26f-4add-9c3d-da6c5043aa22",
   "metadata": {
    "tags": []
   },
   "outputs": [],
   "source": [
    "# Import DTC, accuracy and classification functions\n",
    "from sklearn.tree import DecisionTreeClassifier\n",
    "from sklearn.metrics import accuracy_score, classification_report"
   ]
  },
  {
   "cell_type": "code",
   "execution_count": null,
   "id": "38401a54-f9e7-47c5-8369-efd2d57e0035",
   "metadata": {},
   "outputs": [],
   "source": [
    "# Create CART decision tree using DecisionTreeClassifier()\n",
    "cart01 = DecisionTreeClassifier(max_leaf_nodes=5).fit(X_train,y_train)"
   ]
  },
  {
   "cell_type": "code",
   "execution_count": null,
   "id": "ae814d1f-bd45-4183-bd47-cef0636297bc",
   "metadata": {},
   "outputs": [],
   "source": [
    "# Apply model to predict target feature\n",
    "prediction_cart01 = cart01.predict(X_test)"
   ]
  },
  {
   "cell_type": "code",
   "execution_count": null,
   "id": "8fe46a8d-4207-44e7-9a99-085c6a82aa2b",
   "metadata": {},
   "outputs": [],
   "source": [
    "# Evaluate accuracy using testing data\n",
    "accuracy = accuracy_score(y_test, prediction_cart01)\n",
    "print(f'Accuracy: {accuracy:.2f}')"
   ]
  },
  {
   "cell_type": "code",
   "execution_count": null,
   "id": "77f4810d-2f1e-4a87-b867-4b9209a9de29",
   "metadata": {
    "tags": []
   },
   "outputs": [],
   "source": [
    "# Obtain classification report for decision tree\n",
    "report = classification_report(y_test, prediction_cart01)\n",
    "print(\"Classification Report:\\n\", report)"
   ]
  },
  {
   "cell_type": "markdown",
   "id": "c36c7d8e-92cd-440b-9cf4-ad343a9b3182",
   "metadata": {},
   "source": [
    "Random Forest Model:"
   ]
  },
  {
   "cell_type": "code",
   "execution_count": null,
   "id": "105c0059-db88-47f8-9202-fe079aea3276",
   "metadata": {},
   "outputs": [],
   "source": [
    "from sklearn.ensemble import RandomForestClassifier"
   ]
  },
  {
   "cell_type": "code",
   "execution_count": null,
   "id": "6661684d-8d5f-4d99-899e-a8c1e095f321",
   "metadata": {},
   "outputs": [],
   "source": [
    "# Create Random Forest using RandomForestClassifier()\n",
    "r_forest = RandomForestClassifier(n_estimators=10, random_state=1).fit(X_train,y_train)"
   ]
  },
  {
   "cell_type": "code",
   "execution_count": null,
   "id": "2be99367-5106-4f97-aedf-0cd56494e51f",
   "metadata": {},
   "outputs": [],
   "source": [
    "# Apply model to predict target feature\n",
    "prediction_rf = r_forest.predict(X_test)"
   ]
  },
  {
   "cell_type": "code",
   "execution_count": null,
   "id": "fd5bcd33-5032-4fa5-835b-25de0cb63064",
   "metadata": {},
   "outputs": [],
   "source": [
    "# Evaluate accuracy using testing data\n",
    "accuracy2 = accuracy_score(y_test, prediction_rf)\n",
    "print(f'Accuracy: {accuracy:.2f}')"
   ]
  },
  {
   "cell_type": "code",
   "execution_count": null,
   "id": "068ae4f5-b539-4127-9e2b-2de971791af1",
   "metadata": {
    "tags": []
   },
   "outputs": [],
   "source": [
    "# Obtain classification report for Random Forest\n",
    "report2 = classification_report(y_test, prediction_rf)\n",
    "print(\"Classification Report:\\n\", report2)"
   ]
  },
  {
   "cell_type": "markdown",
   "id": "ce4685cd-9b3e-434d-9bdd-620c3d71bfdb",
   "metadata": {},
   "source": [
    "Support Vector Model:"
   ]
  },
  {
   "cell_type": "code",
   "execution_count": null,
   "id": "4179cdea-62cc-4aea-9348-f32f8b8a6cf6",
   "metadata": {},
   "outputs": [],
   "source": [
    "from sklearn.svm import SVC"
   ]
  },
  {
   "cell_type": "code",
   "execution_count": null,
   "id": "ef236931-2875-4b24-a12a-cd032f32562b",
   "metadata": {},
   "outputs": [],
   "source": [
    "# Create SVM using SVC()\n",
    "svm = SVC(kernel='linear', random_state=1).fit(X_train,y_train)"
   ]
  },
  {
   "cell_type": "code",
   "execution_count": null,
   "id": "9e6208b0-4b36-414e-858b-f9dca2a3f450",
   "metadata": {},
   "outputs": [],
   "source": [
    "# Apply model to predict target feature\n",
    "prediction_svm = svm.predict(X_test)"
   ]
  },
  {
   "cell_type": "code",
   "execution_count": null,
   "id": "f47d34dc-e36f-40f6-9ab2-35faa5349eac",
   "metadata": {},
   "outputs": [],
   "source": [
    "# Evaluate accuracy using testing data\n",
    "accuracy3 = accuracy_score(y_test, prediction_svm)\n",
    "print(f'Accuracy: {accuracy:.2f}')"
   ]
  },
  {
   "cell_type": "code",
   "execution_count": null,
   "id": "4bb040db-83e1-4c8c-8d44-b96e293baf47",
   "metadata": {
    "tags": []
   },
   "outputs": [],
   "source": [
    "# Obtain classification report for Support Vector Model\n",
    "report3 = classification_report(y_test, prediction_svm)\n",
    "print(\"Classification Report:\\n\", report3)"
   ]
  },
  {
   "cell_type": "markdown",
   "id": "9ecdcbc4-366d-442f-9b03-c748fb3946f3",
   "metadata": {},
   "source": [
    "K-Nearest Neighbors Model:"
   ]
  },
  {
   "cell_type": "code",
   "execution_count": null,
   "id": "0b562896-c681-4e78-8917-c4ed2bc39c0e",
   "metadata": {},
   "outputs": [],
   "source": [
    "from sklearn.neighbors import KNeighborsClassifier\n",
    "from sklearn.preprocessing import StandardScaler"
   ]
  },
  {
   "cell_type": "code",
   "execution_count": null,
   "id": "9dc6f332-959f-417f-b0a9-c81b41ae094a",
   "metadata": {},
   "outputs": [],
   "source": [
    "# Scale training and testing sets\n",
    "scaler = StandardScaler()\n",
    "X_train = scaler.fit_transform(X_train)\n",
    "X_test = scaler.transform(X_test)"
   ]
  },
  {
   "cell_type": "code",
   "execution_count": null,
   "id": "b9719867-3692-4128-907b-ea3e53975570",
   "metadata": {},
   "outputs": [],
   "source": [
    "# Create KNN using KNeighborsClassifier()\n",
    "k = 10\n",
    "knn = KNeighborsClassifier(n_neighbors=k).fit(X_train,y_train)"
   ]
  },
  {
   "cell_type": "code",
   "execution_count": null,
   "id": "1a666f76-6342-4a94-9061-9b03b7ea6f8b",
   "metadata": {},
   "outputs": [],
   "source": [
    "# Apply model to predict target feature\n",
    "prediction_knn = knn.predict(X_test)"
   ]
  },
  {
   "cell_type": "code",
   "execution_count": null,
   "id": "12b0e6c1-e148-441a-bd67-d723e3c28f2e",
   "metadata": {},
   "outputs": [],
   "source": [
    "# Evaluate accuracy using testing data\n",
    "accuracy4 = accuracy_score(y_test, prediction_knn)\n",
    "print(f'Accuracy: {accuracy:.2f}')"
   ]
  },
  {
   "cell_type": "code",
   "execution_count": null,
   "id": "9cbd35e4-58fe-4e61-9baa-11a46338dfc8",
   "metadata": {
    "tags": []
   },
   "outputs": [],
   "source": [
    "# Obtain classification report for K-Nearest Neighbors\n",
    "report4 = classification_report(y_test, prediction_knn)\n",
    "print(\"Classification Report:\\n\", report4)"
   ]
  }
 ],
 "metadata": {
  "kernelspec": {
   "display_name": "Python 3 (ipykernel)",
   "language": "python",
   "name": "python3"
  },
  "language_info": {
   "codemirror_mode": {
    "name": "ipython",
    "version": 3
   },
   "file_extension": ".py",
   "mimetype": "text/x-python",
   "name": "python",
   "nbconvert_exporter": "python",
   "pygments_lexer": "ipython3",
   "version": "3.11.4"
  }
 },
 "nbformat": 4,
 "nbformat_minor": 5
}
